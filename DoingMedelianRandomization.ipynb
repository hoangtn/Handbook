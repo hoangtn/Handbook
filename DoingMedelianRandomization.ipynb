{
 "cells": [
  {
   "cell_type": "markdown",
   "metadata": {},
   "source": [
    "## This hanbook desribes an example to do Medelian Randomization\n",
    "\n",
    "Data from Rasheed et al. (2014)\n",
    "\n",
    "[Mendelian Randomization Provides No Evidence for a Causal Role of Serum Urate in Increasing Serum Triglyceride Levels](http://circgenetics.ahajournals.org/content/early/2014/09/22/CIRCGENETICS.114.000556.short)"
   ]
  },
  {
   "cell_type": "markdown",
   "metadata": {},
   "source": [
    "### This work can be done by using the package *AER* or *sem*\n",
    "\n",
    "####Therefore, you should install the two packages"
   ]
  },
  {
   "cell_type": "markdown",
   "metadata": {},
   "source": [
    "#### Read data in R"
   ]
  },
  {
   "cell_type": "code",
   "execution_count": 1,
   "metadata": {
    "collapsed": true
   },
   "outputs": [],
   "source": [
    "%load_ext rpy2.ipython"
   ]
  },
  {
   "cell_type": "code",
   "execution_count": 2,
   "metadata": {
    "collapsed": true
   },
   "outputs": [],
   "source": [
    "%%R\n",
    "###Read data into R\n",
    "MDdata <- read.table(\"CombineARICFHSSUTransporterSNPsfileUsed .csv\", header = TRUE,\n",
    "                    sep = \",\", stringsAsFactors = FALSE)\n",
    "\n",
    "###Attach the data \n",
    "attach(MDdata)\n"
   ]
  },
  {
   "cell_type": "markdown",
   "metadata": {},
   "source": [
    "### Use AER package\n",
    "\n",
    "#### Load AER package"
   ]
  },
  {
   "cell_type": "code",
   "execution_count": 3,
   "metadata": {
    "collapsed": false
   },
   "outputs": [
    {
     "data": {
      "text/plain": [
       "Loading required package: car\n",
       "Loading required package: lmtest\n",
       "Loading required package: zoo\n",
       "\n",
       "Attaching package: ‘zoo’\n",
       "\n",
       "The following objects are masked from ‘package:base’:\n",
       "\n",
       "    as.Date, as.Date.numeric\n",
       "\n",
       "Loading required package: sandwich\n",
       "Loading required package: survival\n"
      ]
     },
     "metadata": {},
     "output_type": "display_data"
    }
   ],
   "source": [
    "%%R\n",
    "library(\"AER\")\n",
    "\n"
   ]
  },
  {
   "cell_type": "markdown",
   "metadata": {},
   "source": [
    "###First step"
   ]
  },
  {
   "cell_type": "code",
   "execution_count": 4,
   "metadata": {
    "collapsed": false
   },
   "outputs": [
    {
     "data": {
      "text/plain": [
       "\n",
       "Call:\n",
       "lm(formula = TRIGLY ~ URICACIDV1, data = MDdata)\n",
       "\n",
       "Residuals:\n",
       "    Min      1Q  Median      3Q     Max \n",
       "-1.7146 -0.4730 -0.1715  0.2598 17.0164 \n",
       "\n",
       "Coefficients:\n",
       "            Estimate Std. Error t value Pr(>|t|)    \n",
       "(Intercept)   0.2162     0.0382   5.659 1.58e-08 ***\n",
       "URICACIDV1    3.4754     0.1146  30.333  < 2e-16 ***\n",
       "---\n",
       "Signif. codes:  0 ‘***’ 0.001 ‘**’ 0.01 ‘*’ 0.05 ‘.’ 0.1 ‘ ’ 1\n",
       "\n",
       "Residual standard error: 0.8617 on 8198 degrees of freedom\n",
       "  (8 observations deleted due to missingness)\n",
       "Multiple R-squared:  0.1009,\tAdjusted R-squared:  0.1008 \n",
       "F-statistic: 920.1 on 1 and 8198 DF,  p-value: < 2.2e-16\n",
       "\n"
      ]
     },
     "metadata": {},
     "output_type": "display_data"
    }
   ],
   "source": [
    "%%R\n",
    "lm.s1 <- lm(TRIGLY ~ URICACIDV1, data = MDdata)\n",
    "summary(lm.s1)"
   ]
  },
  {
   "cell_type": "markdown",
   "metadata": {},
   "source": [
    "####Next step"
   ]
  },
  {
   "cell_type": "code",
   "execution_count": 5,
   "metadata": {
    "collapsed": false
   },
   "outputs": [
    {
     "data": {
      "text/plain": [
       "\n",
       "Call:\n",
       "ivreg(formula = TRIGLY ~ URICACIDV1 | Total.GRS, data = MDdata)\n",
       "\n",
       "Residuals:\n",
       "    Min      1Q  Median      3Q     Max \n",
       "-1.2191 -0.5674 -0.2264  0.2886 16.6193 \n",
       "\n",
       "Coefficients:\n",
       "            Estimate Std. Error t value Pr(>|t|)    \n",
       "(Intercept)   1.6914     0.2708   6.247 4.39e-10 ***\n",
       "URICACIDV1   -1.0933     0.8379  -1.305    0.192    \n",
       "---\n",
       "Signif. codes:  0 ‘***’ 0.001 ‘**’ 0.01 ‘*’ 0.05 ‘.’ 0.1 ‘ ’ 1\n",
       "\n",
       "Residual standard error: 0.9416 on 8198 degrees of freedom\n",
       "Multiple R-Squared: -0.07347,\tAdjusted R-squared: -0.07361 \n",
       "Wald test: 1.703 on 1 and 8198 DF,  p-value: 0.192 \n",
       "\n"
      ]
     },
     "metadata": {},
     "output_type": "display_data"
    }
   ],
   "source": [
    "%%R\n",
    "\n",
    "\n",
    "lm.s2 <- ivreg(TRIGLY ~ URICACIDV1, ~ Total.GRS, data = MDdata)\n",
    "summary(lm.s2)"
   ]
  },
  {
   "cell_type": "markdown",
   "metadata": {},
   "source": [
    "###We can use *sem*\n",
    "\n",
    "####Below describes the way we use the *sem* package"
   ]
  },
  {
   "cell_type": "code",
   "execution_count": 6,
   "metadata": {
    "collapsed": false
   },
   "outputs": [
    {
     "data": {
      "text/plain": [
       "\n",
       " 2SLS Estimates\n",
       "\n",
       "Model Formula: TRIGLY ~ URICACIDV1\n",
       "\n",
       "Instruments: ~Total.GRS\n",
       "\n",
       "Residuals:\n",
       "   Min. 1st Qu.  Median    Mean 3rd Qu.    Max. \n",
       "-1.2190 -0.5674 -0.2264  0.0000  0.2886 16.6200 \n",
       "\n",
       "              Estimate Std. Error  t value   Pr(>|t|)    \n",
       "(Intercept)  1.6914425  0.2707573  6.24708 4.3904e-10 ***\n",
       "URICACIDV1  -1.0932628  0.8378604 -1.30483    0.19199    \n",
       "---\n",
       "Signif. codes:  0 ‘***’ 0.001 ‘**’ 0.01 ‘*’ 0.05 ‘.’ 0.1 ‘ ’ 1\n",
       "\n",
       "Residual standard error: 0.9415596 on 8198 degrees of freedom\n",
       "\n"
      ]
     },
     "metadata": {},
     "output_type": "display_data"
    }
   ],
   "source": [
    "%%R\n",
    "library(\"sem\")\n",
    "lm.s2.sem <- tsls(TRIGLY ~ URICACIDV1, ~ Total.GRS, data = MDdata)\n",
    "summary(lm.s2.sem)\n"
   ]
  }
 ],
 "metadata": {
  "kernelspec": {
   "display_name": "Python 2",
   "language": "python",
   "name": "python2"
  },
  "language_info": {
   "codemirror_mode": {
    "name": "ipython",
    "version": 2
   },
   "file_extension": ".py",
   "mimetype": "text/x-python",
   "name": "python",
   "nbconvert_exporter": "python",
   "pygments_lexer": "ipython2",
   "version": "2.7.9"
  }
 },
 "nbformat": 4,
 "nbformat_minor": 0
}
